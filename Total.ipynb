{
 "cells": [
  {
   "cell_type": "code",
   "execution_count": 1,
   "id": "17e8ec09",
   "metadata": {},
   "outputs": [],
   "source": [
    "import Proyecto_Driver\n",
    "import ipywidgets as widgets\n",
    "from IPython.display import display"
   ]
  },
  {
   "cell_type": "markdown",
   "id": "05065fba",
   "metadata": {},
   "source": [
    "## Detectar el aeropuerto"
   ]
  },
  {
   "cell_type": "code",
   "execution_count": 2,
   "id": "6bb343ac",
   "metadata": {},
   "outputs": [
    {
     "name": "stdout",
     "output_type": "stream",
     "text": [
      "Me das acceso a tu ubicación: Si o No: Si\n",
      "El Aeropuerto Adolfo Suárez Madrid-Barajas (MAD) se encuentra a una distancia de 27,5 km.\n"
     ]
    }
   ],
   "source": [
    "mapa_aeropuerto, duracion = Proyecto_Driver.step_1()"
   ]
  },
  {
   "cell_type": "markdown",
   "id": "ffb61634",
   "metadata": {},
   "source": [
    "## Destinos desde el aeropuerto "
   ]
  },
  {
   "cell_type": "markdown",
   "id": "e2868524",
   "metadata": {},
   "source": [
    "Ahora se le mostrarán 20 de los destinos más destacables que hemos encontrado desde el aeropuerto más cercano."
   ]
  },
  {
   "cell_type": "code",
   "execution_count": 3,
   "id": "1f58f0e8",
   "metadata": {},
   "outputs": [
    {
     "name": "stdout",
     "output_type": "stream",
     "text": [
      "\n",
      "El aeropuerto seleccionado es Adolfo Suárez Madrid-Barajas (MAD).\n",
      "                             Destino Aeropuerto\n",
      "0   BERLIN-BRANDERBURG WILLY BRANDT         BER\n",
      "1                   ROMA /FIUMICINO         FCO\n",
      "2             PARIS /BEAUVAIS-TILLE         BVA\n",
      "3          PARIS /CHARLES DE GAULLE         CDG\n",
      "4                       PARIS /ORLY         ORY\n",
      "5                          BUCAREST         OTP\n",
      "6                             VIENA         VIE\n",
      "7                          VARSOVIA         WAW\n",
      "8                   VARSOVIA/MODLIN         WMI\n",
      "9                          BUDAPEST         BUD\n",
      "10                            PRAGA         PRG\n",
      "11                            SOFIA         SOF\n",
      "12                         BRUSELAS         BRU\n",
      "13              BRUSELAS /CHARLEROI         CRL\n",
      "14               ESTOCOLMO /ARLANDA         ARN\n",
      "15                           ATENAS         ATH\n",
      "16                         HELSINKI         HEL\n",
      "17                             RIGA         RIX\n",
      "18                       COPENHAGUE         CPH\n",
      "19                           DUBLIN         DUB\n",
      "\n",
      "\n",
      "¿Desea ver qué destinos son los más recomendables?: Si\n",
      "\n",
      "Los destinos más recomendables son los más baratos.\n",
      "\n",
      "\n",
      "          Recomendaciones Aeropuertos  Precios      Fechas\n",
      "0                 LISBOA          LIS       12  2023-01-16\n",
      "1  PARIS /BEAUVAIS-TILLE          BVA       17  2023-01-17\n",
      "2               BRUSELAS          BRU       18  2023-01-26\n",
      "3                 DUBLIN          DUB       19  2023-01-17\n",
      "4            PARIS /ORLY          ORY       20  2023-01-11\n",
      "5        ROMA /FIUMICINO          FCO       21  2023-01-15\n"
     ]
    }
   ],
   "source": [
    "lista, destinos = Proyecto_Driver.step_2()"
   ]
  },
  {
   "cell_type": "markdown",
   "id": "7b854a44",
   "metadata": {},
   "source": [
    "### Detalles de las ciudades"
   ]
  },
  {
   "cell_type": "code",
   "execution_count": 4,
   "id": "f3e879d7",
   "metadata": {},
   "outputs": [
    {
     "data": {
      "application/vnd.jupyter.widget-view+json": {
       "model_id": "06b890dbba5841b8b7a86d1f91408593",
       "version_major": 2,
       "version_minor": 0
      },
      "text/plain": [
       "VBox(children=(Dropdown(options=(('LISBOA ', 0), ('PARIS ', 1), ('BRUSELAS ', 2), ('DUBLIN ', 3), ('PARIS ', 4…"
      ]
     },
     "metadata": {},
     "output_type": "display_data"
    }
   ],
   "source": [
    "drop = widgets.Dropdown(\n",
    "    options=lista,\n",
    ")\n",
    "out = widgets.interactive_output(\n",
    "    lambda ciudad: Proyecto_Driver.step_3(ciudad, destinos),\n",
    "    {'ciudad': drop}\n",
    ")\n",
    "widgets.VBox([drop, out])"
   ]
  },
  {
   "cell_type": "markdown",
   "id": "063dbdf4",
   "metadata": {},
   "source": [
    "## Ruta hacía el aeropuerto"
   ]
  },
  {
   "cell_type": "code",
   "execution_count": null,
   "id": "98e92060",
   "metadata": {},
   "outputs": [],
   "source": [
    "Proyecto_Driver.step_4(mapa_aeropuerto,duracion)"
   ]
  },
  {
   "cell_type": "markdown",
   "id": "2445c02f",
   "metadata": {},
   "source": [
    "### Gracias por utilizar nuestros servicios"
   ]
  }
 ],
 "metadata": {
  "kernelspec": {
   "display_name": "Python 3",
   "language": "python",
   "name": "python3"
  },
  "language_info": {
   "codemirror_mode": {
    "name": "ipython",
    "version": 3
   },
   "file_extension": ".py",
   "mimetype": "text/x-python",
   "name": "python",
   "nbconvert_exporter": "python",
   "pygments_lexer": "ipython3",
   "version": "3.8.8"
  },
  "vscode": {
   "interpreter": {
    "hash": "2acbbc62b63727f51b412b81f44665fa10e0f4ef373d646d67463d6fac66285f"
   }
  }
 },
 "nbformat": 4,
 "nbformat_minor": 5
}
